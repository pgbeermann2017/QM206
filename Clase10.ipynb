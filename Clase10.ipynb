{
  "nbformat": 4,
  "nbformat_minor": 0,
  "metadata": {
    "colab": {
      "name": "Clase10.ipynb",
      "provenance": [],
      "collapsed_sections": [],
      "include_colab_link": true
    },
    "kernelspec": {
      "name": "python3",
      "display_name": "Python 3"
    }
  },
  "cells": [
    {
      "cell_type": "markdown",
      "metadata": {
        "id": "view-in-github",
        "colab_type": "text"
      },
      "source": [
        "<a href=\"https://colab.research.google.com/github/pgbeermann2017/QM206/blob/master/Clase10.ipynb\" target=\"_parent\"><img src=\"https://colab.research.google.com/assets/colab-badge.svg\" alt=\"Open In Colab\"/></a>"
      ]
    },
    {
      "cell_type": "code",
      "metadata": {
        "id": "tZRbe7FLJ7BM",
        "colab_type": "code",
        "colab": {}
      },
      "source": [
        "import numpy as np\n",
        "import matplotlib.pyplot as plt\n",
        "import requests"
      ],
      "execution_count": 0,
      "outputs": []
    },
    {
      "cell_type": "code",
      "metadata": {
        "id": "EkC0OM8lQRM7",
        "colab_type": "code",
        "outputId": "2b9ff580-3d22-4749-bf5e-438b1077bbc5",
        "colab": {
          "base_uri": "https://localhost:8080/",
          "height": 283
        }
      },
      "source": [
        "deltaH_gas_298=-241.826   # kJ/mol\n",
        "deltaS_gas_298=188.835    #J/K.mol\n",
        "A=30.09200\n",
        "B=6.832514\n",
        "C=6.793435\n",
        "D=-2.534480\t\n",
        "E=0.082139\n",
        "\n",
        "dT=0.001\n",
        "T=np.arange(298,400,dT)\n",
        "t=T/1000\n",
        "\n",
        "Cp=A+B*t+C*t**2+D*t**3+E/t**2\n",
        "deltaH_gas=np.cumsum(Cp*dT)+deltaH_gas_298*1000\n",
        "deltaS_gas=np.cumsum(Cp/T*dT)+deltaS_gas_298\n",
        "deltaG_gas=deltaH_gas-T*deltaS_gas\n",
        "\n",
        "##Cálculo para el H2Oliq\n",
        "\n",
        "deltaH_liq_298=-285.830    #kJ/mol\n",
        "deltaS_liq_298=69.95       #J/K.mol\n",
        "\n",
        "A=-203.6060\n",
        "B=1523.290\n",
        "C=-3196.413\n",
        "D=2474.455\n",
        "E=3.855326\n",
        "\n",
        "Cp=A+B*t+C*t**2+D*t**3+E/t**2\n",
        "deltaH_liq=np.cumsum(Cp*dT)+deltaH_liq_298*1000\n",
        "deltaS_liq=np.cumsum(Cp/T*dT)+deltaS_liq_298\n",
        "deltaG_liq=deltaH_liq-T*deltaS_liq\n",
        "\n",
        "plt.plot(T,deltaG_gas,label=\"G_gas\")\n",
        "plt.plot(T,deltaG_liq,label=\"G_liq\")\n",
        "plt.xlabel(\"T(K)\")\n",
        "plt.ylabel(\"G(J/mol)\")\n",
        "plt.legend()\n",
        "plt.show()"
      ],
      "execution_count": 0,
      "outputs": [
        {
          "output_type": "display_data",
          "data": {
            "image/png": "[encoded data removed]",
            "text/plain": [
              "<Figure size 432x288 with 1 Axes>"
            ]
          },
          "metadata": {
            "tags": []
          }
        }
      ]
    },
    {
      "cell_type": "code",
      "metadata": {
        "id": "xKSmL0YtUqAO",
        "colab_type": "code",
        "outputId": "83f27cf9-fc37-4ed7-a3e8-f6960f451ba6",
        "colab": {
          "base_uri": "https://localhost:8080/",
          "height": 34
        }
      },
      "source": [
        "d=(deltaG_gas-deltaG_liq)**2\n",
        "minimo=np.min(d)\n",
        "n=np.where(minimo==d)[0][0]\n",
        "print(\"T ebullición H2O=\",T[n])"
      ],
      "execution_count": 0,
      "outputs": [
        {
          "output_type": "stream",
          "text": [
            "T ebullición= 373.2149999982214\n"
          ],
          "name": "stdout"
        }
      ]
    },
    {
      "cell_type": "code",
      "metadata": {
        "id": "6friphdRYy6x",
        "colab_type": "code",
        "outputId": "2c713e3e-3bff-4c97-f7a2-13cacd4a423e",
        "colab": {
          "base_uri": "https://localhost:8080/",
          "height": 286
        }
      },
      "source": [
        "## Coeficiente de Shomate\n",
        "\n",
        "url_CO2=\"https://janaf.nist.gov/tables/C-095.txt\"\n",
        "data=requests.get(url_CO2).text\n",
        "data=data.split(\"\\n\")[3:-1]\n",
        "T=[]\n",
        "Cp=[]\n",
        "for x in data:\n",
        "  fila=x.split(\"\\t\")\n",
        "  datos=[]\n",
        "  for s in fila:\n",
        "    a=float(s)\n",
        "    datos.append(a)\n",
        "  if(datos[0]>=298 and datos[0]<=1200):\n",
        "    T.append(datos[0])\n",
        "    Cp.append(datos[1])\n",
        "T=np.array(T)\n",
        "Cp=np.array(Cp)\n",
        "plt.plot(T,Cp)"
      ],
      "execution_count": 23,
      "outputs": [
        {
          "output_type": "execute_result",
          "data": {
            "text/plain": [
              "[<matplotlib.lines.Line2D at 0x7f1e715e8cf8>]"
            ]
          },
          "metadata": {
            "tags": []
          },
          "execution_count": 23
        },
        {
          "output_type": "display_data",
          "data": {
            "image/png": "[encoded data removed]",
            "text/plain": [
              "<Figure size 432x288 with 1 Axes>"
            ]
          },
          "metadata": {
            "tags": []
          }
        }
      ]
    },
    {
      "cell_type": "code",
      "metadata": {
        "id": "5rvUeRDQdj8V",
        "colab_type": "code",
        "outputId": "d17ff0fd-d3d8-47d0-d780-6456cddca091",
        "colab": {
          "base_uri": "https://localhost:8080/",
          "height": 34
        }
      },
      "source": [
        "t=T/1000\n",
        "Y=Cp\n",
        "n=len(T)\n",
        "X=np.array([np.ones(n),t,t**2,t**3,1/t**2]).T\n",
        "beta=np.linalg.inv(X.T.dot(X)).dot(X.T).dot(Y)\n",
        "print(beta)"
      ],
      "execution_count": 24,
      "outputs": [
        {
          "output_type": "stream",
          "text": [
            "[ 24.99732126  55.18702293 -33.69141903   7.94840627  -0.13663732]\n"
          ],
          "name": "stdout"
        }
      ]
    }
  ]
}