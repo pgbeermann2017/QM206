{
  "nbformat": 4,
  "nbformat_minor": 0,
  "metadata": {
    "kernelspec": {
      "display_name": "Python 3",
      "language": "python",
      "name": "python3"
    },
    "language_info": {
      "codemirror_mode": {
        "name": "ipython",
        "version": 3
      },
      "file_extension": ".py",
      "mimetype": "text/x-python",
      "name": "python",
      "nbconvert_exporter": "python",
      "pygments_lexer": "ipython3",
      "version": "3.7.1"
    },
    "colab": {
      "name": "Janaf.ipynb",
      "provenance": []
    }
  },
  "cells": [
    {
      "cell_type": "code",
      "metadata": {
        "id": "-SM08zCoK0tr",
        "colab_type": "code",
        "colab": {}
      },
      "source": [
        "import numpy as np\n",
        "import matplotlib.pyplot as plt\n",
        "import requests"
      ],
      "execution_count": 0,
      "outputs": []
    },
    {
      "cell_type": "code",
      "metadata": {
        "id": "QXNjmElUK0t1",
        "colab_type": "code",
        "colab": {
          "base_uri": "https://localhost:8080/",
          "height": 126
        },
        "outputId": "30d3be68-a2fd-48ae-cdd4-56efae48b755"
      },
      "source": [
        "## H2O Gas\n",
        "A=30.092\n",
        "B=6.832\n",
        "C=6.793\n",
        "D=-2.53448\n",
        "E=0.082139\n",
        "\n",
        "deltaH_298=-241.826   #kJ/mol\n",
        "deltaS_298=188.835    #J/mol\n",
        "\n",
        "dT=0.001\n",
        "T=np.arange(298,400,dT)\n",
        "t=T/1000\n",
        "Cp_H2O_gas=A+B*t+C*t**2+D*t**3+E/t**2\n",
        "deltaH_gas=np.cumsum(Cp_H2O_gas*dT)+deltaH_298*1000\n",
        "deltaS_gas=np.cumsum(Cp_H2O_gas/T*dT)+deltaS_298\n",
        "deltaG_gas=deltaH_gas-T*deltaS_gas\n",
        "print(T[0:16])\n",
        "print(deltaS_gas[0:16])\n"
      ],
      "execution_count": 53,
      "outputs": [
        {
          "output_type": "stream",
          "text": [
            "[298.    298.001 298.002 298.003 298.004 298.005 298.006 298.007 298.008\n",
            " 298.009 298.01  298.011 298.012 298.013 298.014 298.015]\n",
            "[188.83511271 188.83522543 188.83533814 188.83545086 188.83556357\n",
            " 188.83567628 188.835789   188.83590171 188.83601442 188.83612713\n",
            " 188.83623984 188.83635256 188.83646527 188.83657798 188.83669069\n",
            " 188.8368034 ]\n"
          ],
          "name": "stdout"
        }
      ]
    },
    {
      "cell_type": "code",
      "metadata": {
        "id": "jq6RY6w_K0t7",
        "colab_type": "code",
        "colab": {}
      },
      "source": [
        "A=-203.606\n",
        "B=1523.290\n",
        "C=-3196.413\n",
        "D=2474.455\n",
        "E=3.855\n",
        "\n",
        "deltaH_298=-285.830   #kJ/mol\n",
        "deltaS_298=69.95    #J/mol\n",
        "\n",
        "dT=0.001\n",
        "T=np.arange(298,400,dT)\n",
        "t=T/1000\n",
        "Cp_H2O_liq=A+B*t+C*t**2+D*t**3+E/t**2\n",
        "deltaH_liq=np.cumsum(Cp_H2O_liq*dT)+deltaH_298*1000\n",
        "deltaS_liq=np.cumsum(Cp_H2O_liq/T*dT)+deltaS_298\n",
        "deltaG_liq=deltaH_liq-T*deltaS_liq"
      ],
      "execution_count": 0,
      "outputs": []
    },
    {
      "cell_type": "code",
      "metadata": {
        "id": "jks5ZxT4K0uA",
        "colab_type": "code",
        "colab": {
          "base_uri": "https://localhost:8080/",
          "height": 269
        },
        "outputId": "16582123-3192-4b57-b014-8f6c92c5a04b"
      },
      "source": [
        "plt.plot(T,deltaG_gas,label=\"G_gas\")\n",
        "plt.plot(T,deltaG_liq,label=\"G_liquido\")\n",
        "plt.legend()\n",
        "plt.show()"
      ],
      "execution_count": 49,
      "outputs": [
        {
          "output_type": "display_data",
          "data": {
            "image/png": "[encoded data removed]",
            "text/plain": [
              "<Figure size 432x288 with 1 Axes>"
            ]
          },
          "metadata": {
            "tags": []
          }
        }
      ]
    },
    {
      "cell_type": "code",
      "metadata": {
        "id": "FpztgdyeK0uI",
        "colab_type": "code",
        "colab": {
          "base_uri": "https://localhost:8080/",
          "height": 35
        },
        "outputId": "c6e806ea-510b-4814-8d3d-c71dbe8d3308"
      },
      "source": [
        "dp=(deltaG_gas-deltaG_liq)**2\n",
        "minimo=np.min(dp)\n",
        "n=np.where(dp==minimo)[0][0]\n",
        "T[n]"
      ],
      "execution_count": 45,
      "outputs": [
        {
          "output_type": "execute_result",
          "data": {
            "text/plain": [
              "373.21457981010144"
            ]
          },
          "metadata": {
            "tags": []
          },
          "execution_count": 45
        }
      ]
    },
    {
      "cell_type": "code",
      "metadata": {
        "id": "Jq5Sp8HXK0uN",
        "colab_type": "code",
        "colab": {
          "base_uri": "https://localhost:8080/",
          "height": 35
        },
        "outputId": "207fc0a7-af3b-4bde-b5bf-fba74c21cddb"
      },
      "source": [
        "T[n]"
      ],
      "execution_count": 12,
      "outputs": [
        {
          "output_type": "execute_result",
          "data": {
            "text/plain": [
              "373.2149999982214"
            ]
          },
          "metadata": {
            "tags": []
          },
          "execution_count": 12
        }
      ]
    },
    {
      "cell_type": "code",
      "metadata": {
        "id": "7iiXJ2bIK0uS",
        "colab_type": "code",
        "colab": {}
      },
      "source": [
        "import requests"
      ],
      "execution_count": 0,
      "outputs": []
    },
    {
      "cell_type": "code",
      "metadata": {
        "id": "VckrBjiMK0uX",
        "colab_type": "code",
        "colab": {}
      },
      "source": [
        "url=\"\"\n",
        "file=requests.get(url)\n",
        "datos=file.text\n",
        "datos"
      ],
      "execution_count": 0,
      "outputs": []
    },
    {
      "cell_type": "code",
      "metadata": {
        "id": "8EWQRMaaK0ud",
        "colab_type": "code",
        "colab": {}
      },
      "source": [
        "def leerArchivo(path):\n",
        "    file=open(path,\"r\")\n",
        "    datos=file.read()\n",
        "    datos=datos.split(\"\\n\")[3:-1]\n",
        "    mat=[]\n",
        "    for x in datos:\n",
        "        s=x.split(\"\\t\")\n",
        "        mat.append([float(a) for a in s])\n",
        "    mat=np.array(mat)\n",
        "    return mat\n",
        "\n",
        "def leerArchivoUrl(url):\n",
        "    file=requests.get(url)\n",
        "    datos=file.text;\n",
        "    print(datos)\n",
        "    datos=datos.split(\"\\n\")[2:-1]\n",
        "    mat=[]\n",
        "    for x in datos:\n",
        "        s=x.split(\"\\t\")\n",
        "        mat.append([float(a) for a in s])\n",
        "    mat=np.array(mat)\n",
        "    return mat"
      ],
      "execution_count": 0,
      "outputs": []
    },
    {
      "cell_type": "code",
      "metadata": {
        "id": "OdAUDpdxK0ul",
        "colab_type": "code",
        "colab": {
          "base_uri": "https://localhost:8080/",
          "height": 487
        },
        "outputId": "a07c10f8-e210-4963-ade8-ab7bd6a525d3"
      },
      "source": [
        "url_H2O_liq=\"https://raw.githubusercontent.com/pgbeermann2017/QM206/master/H2O_liq.txt\"\n",
        "url_H2O_gas=\"https://raw.githubusercontent.com/pgbeermann2017/QM206/master/H2O_gas.txt\"\n",
        "mat=leerArchivoUrl(url_H2O_gas)\n",
        "Texp=mat[:,0]\n",
        "Cp=mat[:,1]\n",
        "plt.scatter(Texp,Cp)\n",
        "plt.plot(T,Cp_H2O_gas)\n",
        "plt.plot(T,Cp_H2O_liq)\n",
        "plt.show()"
      ],
      "execution_count": 36,
      "outputs": [
        {
          "output_type": "stream",
          "text": [
            "Water (H2O)\tH2O1(g)\r\n",
            "T(K)\tCp\tS\t-[G-H(Tr)]/T\tH-H(Tr)\tdelta-f H\tdelta-f G\tlog Kf\r\n",
            "100\t33.299\t152.388\t218.534\t-6.615\t-240.083\t-236.584\t123.579\r\n",
            "200\t33.349\t175.485\t191.896\t-3.282\t-240.900\t-232.766\t60.792\r\n",
            "298.15\t33.590\t188.834\t188.834\t0.\t-241.826\t-228.582\t40.047\r\n",
            "300\t33.596\t189.042\t188.835\t0.062\t-241.844\t-228.500\t39.785\r\n",
            "400\t34.262\t198.788\t190.159\t3.452\t-242.846\t-223.901\t29.238\r\n",
            "500\t35.226\t206.534\t192.685\t6.925\t-243.826\t-219.051\t22.884\r\n",
            "600\t36.325\t213.052\t195.550\t10.501\t-244.758\t-214.007\t18.631\r\n",
            "700\t37.495\t218.739\t198.465\t14.192\t-245.632\t-208.812\t15.582\r\n",
            "800\t38.721\t223.825\t201.322\t18.002\t-246.443\t-203.496\t13.287\r\n",
            "900\t39.987\t228.459\t204.084\t21.938\t-247.185\t-198.083\t11.496\n"
          ],
          "name": "stdout"
        },
        {
          "output_type": "display_data",
          "data": {
            "image/png": "[encoded data removed]",
            "text/plain": [
              "<Figure size 432x288 with 1 Axes>"
            ]
          },
          "metadata": {
            "tags": []
          }
        }
      ]
    },
    {
      "cell_type": "code",
      "metadata": {
        "id": "FjILKC6dK0up",
        "colab_type": "code",
        "colab": {
          "base_uri": "https://localhost:8080/",
          "height": 244
        },
        "outputId": "32fbb06f-d66d-40e5-cdca-984e5483f130"
      },
      "source": [
        "T=T[3:16]\n",
        "y=Cp[3:16]\n",
        "t=T/1000\n",
        "n=len(T)\n",
        "X=np.array([np.ones(n),t,t**2,t**3,1/t**2]).T\n",
        "beta=np.linalg.inv(X.T.dot(X)).dot(X.T.dot(y))\n",
        "print(T)"
      ],
      "execution_count": 14,
      "outputs": [
        {
          "output_type": "error",
          "ename": "NameError",
          "evalue": "ignored",
          "traceback": [
            "\u001b[0;31m---------------------------------------------------------------------------\u001b[0m",
            "\u001b[0;31mNameError\u001b[0m                                 Traceback (most recent call last)",
            "\u001b[0;32m<ipython-input-14-c36ce5571227>\u001b[0m in \u001b[0;36m<module>\u001b[0;34m()\u001b[0m\n\u001b[1;32m      1\u001b[0m \u001b[0mT\u001b[0m\u001b[0;34m=\u001b[0m\u001b[0mT\u001b[0m\u001b[0;34m[\u001b[0m\u001b[0;36m3\u001b[0m\u001b[0;34m:\u001b[0m\u001b[0;36m16\u001b[0m\u001b[0;34m]\u001b[0m\u001b[0;34m\u001b[0m\u001b[0;34m\u001b[0m\u001b[0m\n\u001b[0;32m----> 2\u001b[0;31m \u001b[0my\u001b[0m\u001b[0;34m=\u001b[0m\u001b[0mCp\u001b[0m\u001b[0;34m[\u001b[0m\u001b[0;36m3\u001b[0m\u001b[0;34m:\u001b[0m\u001b[0;36m16\u001b[0m\u001b[0;34m]\u001b[0m\u001b[0;34m\u001b[0m\u001b[0;34m\u001b[0m\u001b[0m\n\u001b[0m\u001b[1;32m      3\u001b[0m \u001b[0mt\u001b[0m\u001b[0;34m=\u001b[0m\u001b[0mT\u001b[0m\u001b[0;34m/\u001b[0m\u001b[0;36m1000\u001b[0m\u001b[0;34m\u001b[0m\u001b[0;34m\u001b[0m\u001b[0m\n\u001b[1;32m      4\u001b[0m \u001b[0mn\u001b[0m\u001b[0;34m=\u001b[0m\u001b[0mlen\u001b[0m\u001b[0;34m(\u001b[0m\u001b[0mT\u001b[0m\u001b[0;34m)\u001b[0m\u001b[0;34m\u001b[0m\u001b[0;34m\u001b[0m\u001b[0m\n\u001b[1;32m      5\u001b[0m \u001b[0mX\u001b[0m\u001b[0;34m=\u001b[0m\u001b[0mnp\u001b[0m\u001b[0;34m.\u001b[0m\u001b[0marray\u001b[0m\u001b[0;34m(\u001b[0m\u001b[0;34m[\u001b[0m\u001b[0mnp\u001b[0m\u001b[0;34m.\u001b[0m\u001b[0mones\u001b[0m\u001b[0;34m(\u001b[0m\u001b[0mn\u001b[0m\u001b[0;34m)\u001b[0m\u001b[0;34m,\u001b[0m\u001b[0mt\u001b[0m\u001b[0;34m,\u001b[0m\u001b[0mt\u001b[0m\u001b[0;34m**\u001b[0m\u001b[0;36m2\u001b[0m\u001b[0;34m,\u001b[0m\u001b[0mt\u001b[0m\u001b[0;34m**\u001b[0m\u001b[0;36m3\u001b[0m\u001b[0;34m,\u001b[0m\u001b[0;36m1\u001b[0m\u001b[0;34m/\u001b[0m\u001b[0mt\u001b[0m\u001b[0;34m**\u001b[0m\u001b[0;36m2\u001b[0m\u001b[0;34m]\u001b[0m\u001b[0;34m)\u001b[0m\u001b[0;34m.\u001b[0m\u001b[0mT\u001b[0m\u001b[0;34m\u001b[0m\u001b[0;34m\u001b[0m\u001b[0m\n",
            "\u001b[0;31mNameError\u001b[0m: name 'Cp' is not defined"
          ]
        }
      ]
    },
    {
      "cell_type": "code",
      "metadata": {
        "id": "OavmMfhwK0uu",
        "colab_type": "code",
        "colab": {}
      },
      "source": [
        "Cp_calc=beta.dot(X.T)"
      ],
      "execution_count": 0,
      "outputs": []
    },
    {
      "cell_type": "code",
      "metadata": {
        "id": "BP-QxjUQK0uz",
        "colab_type": "code",
        "colab": {},
        "outputId": "903f8e48-328f-41cf-8bad-cfd861a06736"
      },
      "source": [
        "\n",
        "plt.plot(T,Cp_calc,color=\"orange\")\n",
        "plt.scatter(T,y)\n",
        "plt.xlabel(\"T(K)\")\n",
        "plt.ylabel(\"Cp(J/K-mol)\")\n",
        "plt.show()"
      ],
      "execution_count": 0,
      "outputs": [
        {
          "output_type": "display_data",
          "data": {
            "image/png": "[encoded data removed]",
            "text/plain": [
              "<Figure size 432x288 with 1 Axes>"
            ]
          },
          "metadata": {
            "tags": []
          }
        }
      ]
    },
    {
      "cell_type": "code",
      "metadata": {
        "id": "76XHRgUbK0u4",
        "colab_type": "code",
        "colab": {}
      },
      "source": [
        ""
      ],
      "execution_count": 0,
      "outputs": []
    }
  ]
}